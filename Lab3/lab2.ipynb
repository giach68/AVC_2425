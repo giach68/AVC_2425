{
 "cells": [
  {
   "cell_type": "code",
   "execution_count": 1,
   "id": "d70ad541",
   "metadata": {},
   "outputs": [
    {
     "name": "stdout",
     "output_type": "stream",
     "text": [
      "Jupyter environment detected. Enabling Open3D WebVisualizer.\n",
      "[Open3D INFO] WebRTC GUI backend enabled.\n",
      "[Open3D INFO] WebRTCWindowSystem: HTTP handshake server disabled.\n",
      "[Open3D INFO] Downloading https://github.com/isl-org/open3d_downloads/releases/download/20220301-data/SampleRedwoodRGBDImages.zip\n",
      "[Open3D INFO] Downloaded to C:\\Users\\Utente/open3d_data/download/SampleRedwoodRGBDImages/SampleRedwoodRGBDImages.zip\n",
      "[Open3D INFO] Created directory C:\\Users\\Utente/open3d_data/extract/SampleRedwoodRGBDImages.\n",
      "[Open3D INFO] Extracting C:\\Users\\Utente/open3d_data/download/SampleRedwoodRGBDImages/SampleRedwoodRGBDImages.zip.\n",
      "[Open3D INFO] Extracted to C:\\Users\\Utente/open3d_data/extract/SampleRedwoodRGBDImages.\n",
      "Depth image shape: (480, 640)\n"
     ]
    }
   ],
   "source": [
    "import numpy as np\n",
    "import open3d as o3d\n",
    "\n",
    "# Intrinsic parameters (from PrimeSense Carmine)\n",
    "fx = fy = 525.0\n",
    "cx = 319.5\n",
    "cy = 239.5\n",
    "\n",
    "def depth_to_point_cloud(depth_img):\n",
    "    h, w = depth_img.shape\n",
    "    i, j = np.meshgrid(np.arange(w), np.arange(h))\n",
    "\n",
    "    # Remove invalid depth values\n",
    "    mask = depth_img > 0\n",
    "    z = depth_img[mask].astype(np.float32) / 1000.0  # Convert mm to meters\n",
    "    x = (i[mask] - cx) * z / fx\n",
    "    y = (j[mask] - cy) * z / fy\n",
    "\n",
    "    points = np.stack((x, y, z), axis=-1)\n",
    "    return points, mask\n",
    "\n",
    "def point_cloud_to_mesh(points, mask):\n",
    "    h, w = mask.shape\n",
    "    indices = -np.ones((h, w), dtype=int)\n",
    "    indices[mask] = np.arange(points.shape[0])\n",
    "\n",
    "    triangles = []\n",
    "    for y in range(h - 1):\n",
    "        for x in range(w - 1):\n",
    "            ids = [indices[y, x], indices[y, x+1], indices[y+1, x], indices[y+1, x+1]]\n",
    "            if all(i >= 0 for i in [ids[0], ids[1], ids[2]]):\n",
    "                triangles.append([ids[0], ids[1], ids[2]])\n",
    "            if all(i >= 0 for i in [ids[1], ids[3], ids[2]]):\n",
    "                triangles.append([ids[1], ids[3], ids[2]])\n",
    "\n",
    "    return np.array(triangles)\n",
    "\n",
    "def main():\n",
    "    # Load sample depth image using Open3D\n",
    "    redwood_data = o3d.data.SampleRedwoodRGBDImages()\n",
    "    depth_o3d = o3d.io.read_image(redwood_data.depth_paths[1])\n",
    "\n",
    "    # Convert Open3D depth image to numpy array\n",
    "    depth_img = np.asarray(depth_o3d)\n",
    "\n",
    "    # Proceed with your existing pipeline\n",
    "    print(\"Depth image shape:\", depth_img.shape)\n",
    "\n",
    "    points, mask = depth_to_point_cloud(depth_img)\n",
    "    triangles = point_cloud_to_mesh(points, mask)\n",
    "\n",
    "    # Create Open3D mesh\n",
    "    mesh = o3d.geometry.TriangleMesh()\n",
    "    mesh.vertices = o3d.utility.Vector3dVector(points)\n",
    "    mesh.triangles = o3d.utility.Vector3iVector(triangles)\n",
    "    mesh.compute_vertex_normals()\n",
    "\n",
    "    # Visualize the mesh\n",
    "    o3d.visualization.draw_geometries([mesh])\n",
    "\n",
    "    # Save the mesh to a file\n",
    "    o3d.io.write_triangle_mesh(\"output_mesh.ply\", mesh)\n",
    "\n",
    "if __name__ == \"__main__\":\n",
    "    main()\n"
   ]
  },
  {
   "cell_type": "code",
   "execution_count": 2,
   "id": "3316c642",
   "metadata": {},
   "outputs": [],
   "source": [
    "import open3d as o3d\n",
    "\n",
    "# Load the saved mesh\n",
    "mesh = o3d.io.read_triangle_mesh(\"output_mesh.ply\")\n",
    "\n",
    "# Visualize using WebVisualizer\n",
    "o3d.visualization.draw_geometries([mesh], window_name=\"Mesh\")"
   ]
  },
  {
   "cell_type": "markdown",
   "id": "3c97a862",
   "metadata": {},
   "source": [
    "### If like my laptop your system is not supporting showing ply because of prerequirments, so we can check the ply results by this site:"
   ]
  },
  {
   "cell_type": "markdown",
   "id": "805a1d85",
   "metadata": {},
   "source": [
    "https://imagetostl.com/view-ply-online"
   ]
  }
 ],
 "metadata": {
  "kernelspec": {
   "display_name": "base",
   "language": "python",
   "name": "python3"
  },
  "language_info": {
   "codemirror_mode": {
    "name": "ipython",
    "version": 3
   },
   "file_extension": ".py",
   "mimetype": "text/x-python",
   "name": "python",
   "nbconvert_exporter": "python",
   "pygments_lexer": "ipython3",
   "version": "3.12.7"
  }
 },
 "nbformat": 4,
 "nbformat_minor": 5
}
